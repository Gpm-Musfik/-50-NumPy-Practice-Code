{
  "nbformat": 4,
  "nbformat_minor": 0,
  "metadata": {
    "colab": {
      "provenance": []
    },
    "kernelspec": {
      "name": "python3",
      "display_name": "Python 3"
    },
    "language_info": {
      "name": "python"
    }
  },
  "cells": [
    {
      "cell_type": "code",
      "source": [
        "# NumPy - Splitting Arrays\n",
        "import numpy as np\n",
        "\n",
        "# Creating an array\n",
        "array = np.array([1, 2, 3, 4, 5, 6])\n",
        "\n",
        "# Splitting the array into three parts\n",
        "split_arrays = np.array_split(array, 3)\n",
        "\n",
        "print('Split Arrays:', split_arrays)"
      ],
      "metadata": {
        "colab": {
          "base_uri": "https://localhost:8080/"
        },
        "id": "HaipZqcF1H_X",
        "outputId": "b8b7baa7-2ae3-46ee-f5fe-468256534639"
      },
      "execution_count": 51,
      "outputs": [
        {
          "output_type": "stream",
          "name": "stdout",
          "text": [
            "Original Array: [3 1 2 5 4]\n",
            "Sorted Array: [1 2 3 4 5]\n"
          ]
        }
      ]
    }
  ]
}