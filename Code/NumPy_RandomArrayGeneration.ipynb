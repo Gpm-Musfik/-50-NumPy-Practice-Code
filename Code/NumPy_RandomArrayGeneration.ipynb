{
  "nbformat": 4,
  "nbformat_minor": 0,
  "metadata": {
    "colab": {
      "provenance": []
    },
    "kernelspec": {
      "name": "python3",
      "display_name": "Python 3"
    },
    "language_info": {
      "name": "python"
    }
  },
  "cells": [
    {
      "cell_type": "code",
      "source": [
        "# NumPy - Random Array Generation\n",
        "import numpy as np\n",
        "\n",
        "# Generating random arrays\n",
        "random_array = np.random.rand(3, 3)  # Random values in a 3x3 array\n",
        "normal_array = np.random.randn(3, 3)  # Random values with a normal distribution\n",
        "\n",
        "print('Random Array:\\n', random_array)\n",
        "print('Normal Distribution Array:\\n', normal_array)"
      ],
      "metadata": {
        "colab": {
          "base_uri": "https://localhost:8080/"
        },
        "id": "HaipZqcF1H_X",
        "outputId": "a39a1cbe-9fb3-48c6-f271-c76463d5db2a"
      },
      "execution_count": 47,
      "outputs": [
        {
          "output_type": "stream",
          "name": "stdout",
          "text": [
            "Squared Array: [  1  16  81 256]\n",
            "Square Root of Array: [1. 2. 3. 4.]\n"
          ]
        }
      ]
    }
  ]
}