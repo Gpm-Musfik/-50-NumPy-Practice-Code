{
  "nbformat": 4,
  "nbformat_minor": 0,
  "metadata": {
    "colab": {
      "provenance": []
    },
    "kernelspec": {
      "name": "python3",
      "display_name": "Python 3"
    },
    "language_info": {
      "name": "python"
    }
  },
  "cells": [
    {
      "cell_type": "code",
      "source": [
        "# Example 19: NumPy - Setting Values Using Indexing\n",
        "import numpy as np\n",
        "\n",
        "# Creating an array\n",
        "array = np.array([1, 2, 3, 4, 5])\n",
        "\n",
        "# Setting specific values using indexing\n",
        "array[[1, 3]] = [100, 200]\n",
        "\n",
        "print('Array after Setting Values:', array)"
      ],
      "metadata": {
        "colab": {
          "base_uri": "https://localhost:8080/"
        },
        "id": "HaipZqcF1H_X",
        "outputId": "3d368f2c-3805-409a-f25a-47bb28b32690"
      },
      "execution_count": 49,
      "outputs": [
        {
          "output_type": "stream",
          "name": "stdout",
          "text": [
            "Array after Setting Values: [  1 100   3 200   5]\n"
          ]
        }
      ]
    }
  ]
}