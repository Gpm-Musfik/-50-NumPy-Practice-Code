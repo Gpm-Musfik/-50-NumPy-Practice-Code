{
  "nbformat": 4,
  "nbformat_minor": 0,
  "metadata": {
    "colab": {
      "provenance": []
    },
    "kernelspec": {
      "name": "python3",
      "display_name": "Python 3"
    },
    "language_info": {
      "name": "python"
    }
  },
  "cells": [
    {
      "cell_type": "code",
      "source": [
        "# NumPy - Conditional Replacement with np.where\n",
        "import numpy as np\n",
        "\n",
        "# Creating an array\n",
        "array = np.array([10, 15, 20, 25, 30])\n",
        "\n",
        "# Replacing values based on condition\n",
        "result = np.where(array > 20, 0, array)\n",
        "\n",
        "print('Array with Values Greater Than 20 Replaced with 0:', result)"
      ],
      "metadata": {
        "colab": {
          "base_uri": "https://localhost:8080/"
        },
        "id": "HaipZqcF1H_X",
        "outputId": "8be3eab8-44a7-4732-a477-98d2b6aea335"
      },
      "execution_count": 26,
      "outputs": [
        {
          "output_type": "stream",
          "name": "stdout",
          "text": [
            "Array with Values Greater Than 20 Replaced with 0: [10 15 20  0  0]\n"
          ]
        }
      ]
    }
  ]
}