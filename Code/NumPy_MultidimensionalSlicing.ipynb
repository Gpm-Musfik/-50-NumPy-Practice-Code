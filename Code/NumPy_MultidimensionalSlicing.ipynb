{
  "nbformat": 4,
  "nbformat_minor": 0,
  "metadata": {
    "colab": {
      "provenance": []
    },
    "kernelspec": {
      "name": "python3",
      "display_name": "Python 3"
    },
    "language_info": {
      "name": "python"
    }
  },
  "cells": [
    {
      "cell_type": "code",
      "source": [
        "# NumPy - Multi-dimensional Slicing\n",
        "import numpy as np\n",
        "\n",
        "# Creating a 2D array\n",
        "array_2d = np.array([[1, 2, 3, 4], [5, 6, 7, 8], [9, 10, 11, 12]])\n",
        "\n",
        "# Multi-dimensional slicing\n",
        "sub_array = array_2d[1:, 1:3]\n",
        "\n",
        "print('Sub Array (Slicing Rows and Columns):\\n', sub_array)"
      ],
      "metadata": {
        "colab": {
          "base_uri": "https://localhost:8080/"
        },
        "id": "HaipZqcF1H_X",
        "outputId": "d163e422-1fcd-45d6-80ff-23f593aefbc5"
      },
      "execution_count": 42,
      "outputs": [
        {
          "output_type": "stream",
          "name": "stdout",
          "text": [
            "Sub Array (Slicing Rows and Columns):\n",
            " [[ 6  7]\n",
            " [10 11]]\n"
          ]
        }
      ]
    }
  ]
}