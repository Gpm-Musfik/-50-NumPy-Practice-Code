{
  "nbformat": 4,
  "nbformat_minor": 0,
  "metadata": {
    "colab": {
      "provenance": []
    },
    "kernelspec": {
      "name": "python3",
      "display_name": "Python 3"
    },
    "language_info": {
      "name": "python"
    }
  },
  "cells": [
    {
      "cell_type": "code",
      "execution_count": 6,
      "metadata": {
        "colab": {
          "base_uri": "https://localhost:8080/"
        },
        "id": "hh1d7XeKi_N-",
        "outputId": "1e682341-62b7-4345-92a7-962d0fb652cf"
      },
      "outputs": [
        {
          "output_type": "stream",
          "name": "stdout",
          "text": [
            "Elements Greater Than 20: [25 30]\n"
          ]
        }
      ],
      "source": [
        "# NumPy - Boolean Indexing\n",
        "import numpy as np\n",
        "\n",
        "# Creating an array\n",
        "array = np.array([10, 15, 20, 25, 30])\n",
        "\n",
        "# Boolean indexing\n",
        "greater_than_20 = array[array > 20]\n",
        "\n",
        "print('Elements Greater Than 20:', greater_than_20)"
      ]
    }
  ]
}