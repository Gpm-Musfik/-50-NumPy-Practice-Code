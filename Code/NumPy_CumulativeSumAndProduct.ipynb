{
  "nbformat": 4,
  "nbformat_minor": 0,
  "metadata": {
    "colab": {
      "provenance": []
    },
    "kernelspec": {
      "name": "python3",
      "display_name": "Python 3"
    },
    "language_info": {
      "name": "python"
    }
  },
  "cells": [
    {
      "cell_type": "code",
      "source": [
        "# NumPy - Cumulative Sum and Product\n",
        "import numpy as np\n",
        "\n",
        "# Creating an array\n",
        "array = np.array([1, 2, 3, 4])\n",
        "\n",
        "# Calculating cumulative sum and product\n",
        "cumulative_sum = np.cumsum(array)\n",
        "cumulative_product = np.cumprod(array)\n",
        "\n",
        "print('Cumulative Sum:', cumulative_sum)\n",
        "print('Cumulative Product:', cumulative_product)"
      ],
      "metadata": {
        "colab": {
          "base_uri": "https://localhost:8080/"
        },
        "id": "HaipZqcF1H_X",
        "outputId": "651c3e8d-465c-472b-f3b0-9e6c050ce366"
      },
      "execution_count": 27,
      "outputs": [
        {
          "output_type": "stream",
          "name": "stdout",
          "text": [
            "Cumulative Sum: [ 1  3  6 10]\n",
            "Cumulative Product: [ 1  2  6 24]\n"
          ]
        }
      ]
    }
  ]
}