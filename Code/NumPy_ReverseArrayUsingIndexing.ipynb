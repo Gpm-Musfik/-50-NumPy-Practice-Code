{
  "nbformat": 4,
  "nbformat_minor": 0,
  "metadata": {
    "colab": {
      "provenance": []
    },
    "kernelspec": {
      "name": "python3",
      "display_name": "Python 3"
    },
    "language_info": {
      "name": "python"
    }
  },
  "cells": [
    {
      "cell_type": "code",
      "source": [
        "# NumPy - Reverse Array using Indexing\n",
        "import numpy as np\n",
        "\n",
        "# Creating an array\n",
        "array = np.array([1, 2, 3, 4, 5])\n",
        "\n",
        "# Reversing the array using slicing\n",
        "reversed_array = array[::-1]\n",
        "\n",
        "print('Reversed Array:', reversed_array)"
      ],
      "metadata": {
        "colab": {
          "base_uri": "https://localhost:8080/"
        },
        "id": "HaipZqcF1H_X",
        "outputId": "7b3c2e53-a97b-4dbb-8ac8-011b3da7f0b9"
      },
      "execution_count": 48,
      "outputs": [
        {
          "output_type": "stream",
          "name": "stdout",
          "text": [
            "Reversed Array: [5 4 3 2 1]\n"
          ]
        }
      ]
    }
  ]
}