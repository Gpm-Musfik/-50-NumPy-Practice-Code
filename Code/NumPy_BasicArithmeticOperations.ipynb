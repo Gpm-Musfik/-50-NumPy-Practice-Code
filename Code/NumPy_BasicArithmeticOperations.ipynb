{
  "nbformat": 4,
  "nbformat_minor": 0,
  "metadata": {
    "colab": {
      "provenance": []
    },
    "kernelspec": {
      "name": "python3",
      "display_name": "Python 3"
    },
    "language_info": {
      "name": "python"
    }
  },
  "cells": [
    {
      "cell_type": "code",
      "execution_count": 4,
      "metadata": {
        "colab": {
          "base_uri": "https://localhost:8080/"
        },
        "id": "hh1d7XeKi_N-",
        "outputId": "6373a05d-9d38-40ff-8862-ae370af07234"
      },
      "outputs": [
        {
          "output_type": "stream",
          "name": "stdout",
          "text": [
            "Added: [5 7 9]\n",
            "Subtracted: [-3 -3 -3]\n",
            "Multiplied: [ 4 10 18]\n",
            "Divided: [0.25 0.4  0.5 ]\n"
          ]
        }
      ],
      "source": [
        "# NumPy - Basic Arithmetic Operations\n",
        "import numpy as np\n",
        "\n",
        "# Creating arrays\n",
        "array1 = np.array([1, 2, 3])\n",
        "array2 = np.array([4, 5, 6])\n",
        "\n",
        "# Arithmetic operations\n",
        "added = np.add(array1, array2)\n",
        "subtracted = np.subtract(array1, array2)\n",
        "multiplied = np.multiply(array1, array2)\n",
        "divided = np.divide(array1, array2)\n",
        "\n",
        "print('Added:', added)\n",
        "print('Subtracted:', subtracted)\n",
        "print('Multiplied:', multiplied)\n",
        "print('Divided:', divided)"
      ]
    }
  ]
}