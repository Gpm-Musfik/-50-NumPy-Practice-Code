{
  "nbformat": 4,
  "nbformat_minor": 0,
  "metadata": {
    "colab": {
      "provenance": []
    },
    "kernelspec": {
      "name": "python3",
      "display_name": "Python 3"
    },
    "language_info": {
      "name": "python"
    }
  },
  "cells": [
    {
      "cell_type": "code",
      "source": [
        "# NumPy - Combining Boolean and Fancy Indexing\n",
        "import numpy as np\n",
        "\n",
        "# Creating an array\n",
        "array = np.array([10, 15, 20, 25, 30])\n",
        "\n",
        "# Boolean condition combined with specific indices\n",
        "result = array[(array > 10) & (array < 30)][[0, 2]]\n",
        "\n",
        "print('Combined Boolean and Fancy Indexing Result:', result)"
      ],
      "metadata": {
        "colab": {
          "base_uri": "https://localhost:8080/"
        },
        "id": "HaipZqcF1H_X",
        "outputId": "d765add0-5d86-4639-f9b8-5b36c2a60fe5"
      },
      "execution_count": 18,
      "outputs": [
        {
          "output_type": "stream",
          "name": "stdout",
          "text": [
            "Combined Boolean and Fancy Indexing Result: [15 25]\n"
          ]
        }
      ]
    }
  ]
}