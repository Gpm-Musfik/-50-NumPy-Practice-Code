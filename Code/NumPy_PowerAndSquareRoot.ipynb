{
  "nbformat": 4,
  "nbformat_minor": 0,
  "metadata": {
    "colab": {
      "provenance": []
    },
    "kernelspec": {
      "name": "python3",
      "display_name": "Python 3"
    },
    "language_info": {
      "name": "python"
    }
  },
  "cells": [
    {
      "cell_type": "code",
      "source": [
        "# NumPy - Power and Square Root\n",
        "import numpy as np\n",
        "\n",
        "# Creating an array\n",
        "array = np.array([1, 4, 9, 16])\n",
        "\n",
        "# Power and square root\n",
        "squared = np.power(array, 2)\n",
        "sqrt = np.sqrt(array)\n",
        "\n",
        "print('Squared Array:', squared)\n",
        "print('Square Root of Array:', sqrt)"
      ],
      "metadata": {
        "colab": {
          "base_uri": "https://localhost:8080/"
        },
        "id": "HaipZqcF1H_X",
        "outputId": "a39a1cbe-9fb3-48c6-f271-c76463d5db2a"
      },
      "execution_count": 47,
      "outputs": [
        {
          "output_type": "stream",
          "name": "stdout",
          "text": [
            "Squared Array: [  1  16  81 256]\n",
            "Square Root of Array: [1. 2. 3. 4.]\n"
          ]
        }
      ]
    }
  ]
}