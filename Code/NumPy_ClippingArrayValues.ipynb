{
  "nbformat": 4,
  "nbformat_minor": 0,
  "metadata": {
    "colab": {
      "provenance": []
    },
    "kernelspec": {
      "name": "python3",
      "display_name": "Python 3"
    },
    "language_info": {
      "name": "python"
    }
  },
  "cells": [
    {
      "cell_type": "code",
      "source": [
        "# NumPy - Clipping Array Values\n",
        "import numpy as np\n",
        "\n",
        "# Creating an array\n",
        "array = np.array([1, 2, 3, 4, 5])\n",
        "\n",
        "# Clipping values to be between 2 and 4\n",
        "clipped_array = np.clip(array, 2, 4)\n",
        "\n",
        "print('Original Array:', array)\n",
        "print('Clipped Array:', clipped_array)"
      ],
      "metadata": {
        "colab": {
          "base_uri": "https://localhost:8080/"
        },
        "id": "taFIephX0erH",
        "outputId": "a2f03406-cf39-4bb0-e3fd-4c2bb6572057"
      },
      "execution_count": 17,
      "outputs": [
        {
          "output_type": "stream",
          "name": "stdout",
          "text": [
            "Original Array: [1 2 3 4 5]\n",
            "Clipped Array: [2 2 3 4 4]\n"
          ]
        }
      ]
    }
  ]
}