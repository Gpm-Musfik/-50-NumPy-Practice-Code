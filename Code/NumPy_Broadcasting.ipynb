{
  "nbformat": 4,
  "nbformat_minor": 0,
  "metadata": {
    "colab": {
      "provenance": []
    },
    "kernelspec": {
      "name": "python3",
      "display_name": "Python 3"
    },
    "language_info": {
      "name": "python"
    }
  },
  "cells": [
    {
      "cell_type": "code",
      "execution_count": 8,
      "metadata": {
        "colab": {
          "base_uri": "https://localhost:8080/"
        },
        "id": "hh1d7XeKi_N-",
        "outputId": "124a7258-5436-4c06-a6bc-9dacebfeccde"
      },
      "outputs": [
        {
          "output_type": "stream",
          "name": "stdout",
          "text": [
            "Original Array: [1 2 3]\n",
            "Array after Broadcasting: [11 12 13]\n"
          ]
        }
      ],
      "source": [
        "# NumPy - Broadcasting\n",
        "import numpy as np\n",
        "\n",
        "# Creating an array\n",
        "array = np.array([1, 2, 3])\n",
        "\n",
        "# Broadcasting: Adding a scalar to an array\n",
        "result = array + 10\n",
        "\n",
        "print('Original Array:', array)\n",
        "print('Array after Broadcasting:', result)"
      ]
    }
  ]
}