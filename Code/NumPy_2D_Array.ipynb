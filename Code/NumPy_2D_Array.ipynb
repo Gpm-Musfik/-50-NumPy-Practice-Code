{
  "nbformat": 4,
  "nbformat_minor": 0,
  "metadata": {
    "colab": {
      "provenance": []
    },
    "kernelspec": {
      "name": "python3",
      "display_name": "Python 3"
    },
    "language_info": {
      "name": "python"
    }
  },
  "cells": [
    {
      "cell_type": "code",
      "execution_count": 1,
      "metadata": {
        "colab": {
          "base_uri": "https://localhost:8080/"
        },
        "id": "nzyq2XoYgKBs",
        "outputId": "f906974b-af0a-429a-c649-e03defed4c88"
      },
      "outputs": [
        {
          "output_type": "stream",
          "name": "stdout",
          "text": [
            "Element at (1,2): 6\n",
            "First Row: [1 2 3]\n",
            "Second Column: [2 5 8]\n"
          ]
        }
      ],
      "source": [
        "# NumPy - 2D Array Indexing\n",
        "import numpy as np\n",
        "\n",
        "# Creating a 2D array\n",
        "array_2d = np.array([[1, 2, 3], [4, 5, 6], [7, 8, 9]])\n",
        "\n",
        "# Accessing individual elements\n",
        "element = array_2d[1, 2]  # Accessing element at row 1, column 2\n",
        "\n",
        "# Slicing rows and columns\n",
        "row_slice = array_2d[0, :]  # First row\n",
        "column_slice = array_2d[:, 1]  # Second column\n",
        "\n",
        "print('Element at (1,2):', element)\n",
        "print('First Row:', row_slice)\n",
        "print('Second Column:', column_slice)"
      ]
    }
  ]
}