{
  "nbformat": 4,
  "nbformat_minor": 0,
  "metadata": {
    "colab": {
      "provenance": []
    },
    "kernelspec": {
      "name": "python3",
      "display_name": "Python 3"
    },
    "language_info": {
      "name": "python"
    }
  },
  "cells": [
    {
      "cell_type": "code",
      "source": [
        "# NumPy - Using np.choose for Multiple Conditions\n",
        "import numpy as np\n",
        "\n",
        "# Creating arrays for conditions\n",
        "array = np.array([0, 1, 2, 3])\n",
        "choices = [array*2, array+10, array**2]\n",
        "\n",
        "# Using np.choose to apply different conditions\n",
        "result = np.choose(array, choices)\n",
        "\n",
        "print('Result using np.choose:', result)"
      ],
      "metadata": {
        "id": "GnDcKJr8xNzn"
      },
      "execution_count": null,
      "outputs": []
    }
  ]
}