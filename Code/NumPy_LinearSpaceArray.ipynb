{
  "nbformat": 4,
  "nbformat_minor": 0,
  "metadata": {
    "colab": {
      "provenance": []
    },
    "kernelspec": {
      "name": "python3",
      "display_name": "Python 3"
    },
    "language_info": {
      "name": "python"
    }
  },
  "cells": [
    {
      "cell_type": "code",
      "source": [
        "# Example 17: NumPy - Linear Space Array\n",
        "import numpy as np\n",
        "\n",
        "# Generating a linear space array with evenly spaced values\n",
        "linear_space = np.linspace(0, 10, 5)\n",
        "\n",
        "print('Linear Space Array:', linear_space)"
      ],
      "metadata": {
        "colab": {
          "base_uri": "https://localhost:8080/"
        },
        "id": "HaipZqcF1H_X",
        "outputId": "9547ff7a-4ecf-4b8b-b4f9-42a49ce8de17"
      },
      "execution_count": 36,
      "outputs": [
        {
          "output_type": "stream",
          "name": "stdout",
          "text": [
            "Linear Space Array: [ 0.   2.5  5.   7.5 10. ]\n"
          ]
        }
      ]
    }
  ]
}