{
  "nbformat": 4,
  "nbformat_minor": 0,
  "metadata": {
    "colab": {
      "provenance": []
    },
    "kernelspec": {
      "name": "python3",
      "display_name": "Python 3"
    },
    "language_info": {
      "name": "python"
    }
  },
  "cells": [
    {
      "cell_type": "code",
      "source": [
        "# NumPy - Extracting Upper Triangle of a Matrix\n",
        "import numpy as np\n",
        "\n",
        "# Creating a square matrix\n",
        "matrix = np.array([[1, 2, 3], [4, 5, 6], [7, 8, 9]])\n",
        "\n",
        "# Extracting the upper triangle (above the main diagonal)\n",
        "upper_triangle = np.triu(matrix)\n",
        "\n",
        "print('Upper Triangle of the Matrix:\\n', upper_triangle)"
      ],
      "metadata": {
        "colab": {
          "base_uri": "https://localhost:8080/"
        },
        "id": "HaipZqcF1H_X",
        "outputId": "b185de53-6bb2-4db8-f1bc-7ad40814e670"
      },
      "execution_count": 57,
      "outputs": [
        {
          "output_type": "stream",
          "name": "stdout",
          "text": [
            "Upper Triangle of the Matrix:\n",
            " [[1 2 3]\n",
            " [0 5 6]\n",
            " [0 0 9]]\n"
          ]
        }
      ]
    }
  ]
}