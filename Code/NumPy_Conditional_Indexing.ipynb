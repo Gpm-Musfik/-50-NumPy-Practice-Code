{
  "nbformat": 4,
  "nbformat_minor": 0,
  "metadata": {
    "colab": {
      "provenance": []
    },
    "kernelspec": {
      "name": "python3",
      "display_name": "Python 3"
    },
    "language_info": {
      "name": "python"
    }
  },
  "cells": [
    {
      "cell_type": "code",
      "source": [
        "# NumPy - Conditional Indexing\n",
        "import numpy as np\n",
        "\n",
        "# Creating an array\n",
        "array = np.array([1, 2, 3, 4, 5, 6])\n",
        "\n",
        "# Setting elements that satisfy a condition\n",
        "array[array % 2 == 0] = -1  # Set even numbers to -1\n",
        "\n",
        "print('Array after Conditional Indexing:', array)"
      ],
      "metadata": {
        "colab": {
          "base_uri": "https://localhost:8080/"
        },
        "id": "HaipZqcF1H_X",
        "outputId": "8be3eab8-44a7-4732-a477-98d2b6aea335"
      },
      "execution_count": 26,
      "outputs": [
        {
          "output_type": "stream",
          "name": "stdout",
          "text": [
            "Array with Values Greater Than 20 Replaced with 0: [10 15 20  0  0]\n"
          ]
        }
      ]
    }
  ]
}