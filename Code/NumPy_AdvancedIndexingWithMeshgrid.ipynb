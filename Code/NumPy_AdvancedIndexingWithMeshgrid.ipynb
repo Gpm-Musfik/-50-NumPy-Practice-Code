{
  "nbformat": 4,
  "nbformat_minor": 0,
  "metadata": {
    "colab": {
      "provenance": []
    },
    "kernelspec": {
      "name": "python3",
      "display_name": "Python 3"
    },
    "language_info": {
      "name": "python"
    }
  },
  "cells": [
    {
      "cell_type": "code",
      "execution_count": 1,
      "metadata": {
        "colab": {
          "base_uri": "https://localhost:8080/"
        },
        "id": "hh1d7XeKi_N-",
        "outputId": "284497c0-e18d-4649-d3e3-c345b8b4852c"
      },
      "outputs": [
        {
          "output_type": "stream",
          "name": "stdout",
          "text": [
            "Indices for Meshgrid Advanced Indexing:\n",
            " [[1 2 3 1 2 3]\n",
            " [4 4 4 5 5 5]]\n"
          ]
        }
      ],
      "source": [
        "# NumPy - Advanced Indexing with Meshgrid\n",
        "import numpy as np\n",
        "\n",
        "# Creating 1D arrays\n",
        "x = np.array([1, 2, 3])\n",
        "y = np.array([4, 5])\n",
        "\n",
        "# Creating meshgrid for advanced indexing\n",
        "X, Y = np.meshgrid(x, y)\n",
        "indices = np.vstack([X.ravel(), Y.ravel()])\n",
        "\n",
        "print('Indices for Meshgrid Advanced Indexing:\\n', indices)"
      ]
    }
  ]
}