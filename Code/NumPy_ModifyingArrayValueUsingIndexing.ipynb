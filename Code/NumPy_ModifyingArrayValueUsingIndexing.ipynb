{
  "nbformat": 4,
  "nbformat_minor": 0,
  "metadata": {
    "colab": {
      "provenance": []
    },
    "kernelspec": {
      "name": "python3",
      "display_name": "Python 3"
    },
    "language_info": {
      "name": "python"
    }
  },
  "cells": [
    {
      "cell_type": "code",
      "source": [
        "# NumPy - Modifying Array Values using Indexing\n",
        "import numpy as np\n",
        "\n",
        "# Creating an array\n",
        "array = np.array([10, 20, 30, 40, 50])\n",
        "\n",
        "# Modifying values at specific indices\n",
        "array[[1, 3]] = [100, 200]\n",
        "\n",
        "print('Modified Array:', array)"
      ],
      "metadata": {
        "colab": {
          "base_uri": "https://localhost:8080/"
        },
        "id": "HaipZqcF1H_X",
        "outputId": "511d1d93-fb28-4493-8628-1db0711e98b5"
      },
      "execution_count": 40,
      "outputs": [
        {
          "output_type": "stream",
          "name": "stdout",
          "text": [
            "Modified Array: [ 10 100  30 200  50]\n"
          ]
        }
      ]
    }
  ]
}