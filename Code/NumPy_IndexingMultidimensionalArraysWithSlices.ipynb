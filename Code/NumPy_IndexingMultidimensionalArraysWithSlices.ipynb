{
  "nbformat": 4,
  "nbformat_minor": 0,
  "metadata": {
    "colab": {
      "provenance": []
    },
    "kernelspec": {
      "name": "python3",
      "display_name": "Python 3"
    },
    "language_info": {
      "name": "python"
    }
  },
  "cells": [
    {
      "cell_type": "code",
      "source": [
        "# NumPy - Indexing Multi-dimensional Arrays with Slices\n",
        "import numpy as np\n",
        "\n",
        "# Creating a 3x4 array\n",
        "array_2d = np.array([[1, 2, 3, 4], [5, 6, 7, 8], [9, 10, 11, 12]])\n",
        "\n",
        "# Selecting specific rows and columns using slices\n",
        "selected_slice = array_2d[1:, :2]\n",
        "\n",
        "print('Selected Slice:\\n', selected_slice)"
      ],
      "metadata": {
        "colab": {
          "base_uri": "https://localhost:8080/"
        },
        "id": "HaipZqcF1H_X",
        "outputId": "3ec5a04d-1e53-4c74-aabd-2b57d1485f24"
      },
      "execution_count": 41,
      "outputs": [
        {
          "output_type": "stream",
          "name": "stdout",
          "text": [
            "Selected Slice:\n",
            " [[ 5  6]\n",
            " [ 9 10]]\n"
          ]
        }
      ]
    }
  ]
}