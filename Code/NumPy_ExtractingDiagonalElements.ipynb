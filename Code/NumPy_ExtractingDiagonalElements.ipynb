{
  "nbformat": 4,
  "nbformat_minor": 0,
  "metadata": {
    "colab": {
      "provenance": []
    },
    "kernelspec": {
      "name": "python3",
      "display_name": "Python 3"
    },
    "language_info": {
      "name": "python"
    }
  },
  "cells": [
    {
      "cell_type": "code",
      "source": [
        "# NumPy - Extracting Diagonal Elements\n",
        "import numpy as np\n",
        "\n",
        "# Creating a square matrix\n",
        "matrix = np.array([[1, 2, 3], [4, 5, 6], [7, 8, 9]])\n",
        "\n",
        "# Extracting the main diagonal\n",
        "diagonal_elements = np.diag(matrix)\n",
        "\n",
        "print('Diagonal Elements:', diagonal_elements)"
      ],
      "metadata": {
        "colab": {
          "base_uri": "https://localhost:8080/"
        },
        "id": "HaipZqcF1H_X",
        "outputId": "b669b2f0-dcd7-4176-82c4-da4c06f363aa"
      },
      "execution_count": 30,
      "outputs": [
        {
          "output_type": "stream",
          "name": "stdout",
          "text": [
            "Diagonal Elements: [1 5 9]\n"
          ]
        }
      ]
    }
  ]
}