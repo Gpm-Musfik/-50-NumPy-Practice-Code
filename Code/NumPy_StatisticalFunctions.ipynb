{
  "nbformat": 4,
  "nbformat_minor": 0,
  "metadata": {
    "colab": {
      "provenance": []
    },
    "kernelspec": {
      "name": "python3",
      "display_name": "Python 3"
    },
    "language_info": {
      "name": "python"
    }
  },
  "cells": [
    {
      "cell_type": "code",
      "source": [
        "# NumPy - Statistical Functions\n",
        "import numpy as np\n",
        "\n",
        "# Creating an array\n",
        "array = np.array([1, 2, 3, 4, 5])\n",
        "\n",
        "# Calculating statistical values\n",
        "mean = np.mean(array)\n",
        "median = np.median(array)\n",
        "std_dev = np.std(array)\n",
        "variance = np.var(array)\n",
        "\n",
        "print('Mean:', mean)\n",
        "print('Median:', median)\n",
        "print('Standard Deviation:', std_dev)\n",
        "print('Variance:', variance)"
      ],
      "metadata": {
        "colab": {
          "base_uri": "https://localhost:8080/"
        },
        "id": "HaipZqcF1H_X",
        "outputId": "1c51336a-2a10-4c81-bbce-f400acc71d59"
      },
      "execution_count": 52,
      "outputs": [
        {
          "output_type": "stream",
          "name": "stdout",
          "text": [
            "Mean: 3.0\n",
            "Median: 3.0\n",
            "Standard Deviation: 1.4142135623730951\n",
            "Variance: 2.0\n"
          ]
        }
      ]
    }
  ]
}