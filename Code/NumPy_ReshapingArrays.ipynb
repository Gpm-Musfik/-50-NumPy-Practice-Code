{
  "nbformat": 4,
  "nbformat_minor": 0,
  "metadata": {
    "colab": {
      "provenance": []
    },
    "kernelspec": {
      "name": "python3",
      "display_name": "Python 3"
    },
    "language_info": {
      "name": "python"
    }
  },
  "cells": [
    {
      "cell_type": "code",
      "source": [
        "# NumPy - Reshaping Arrays\n",
        "import numpy as np\n",
        "\n",
        "# Creating an array\n",
        "array = np.array([1, 2, 3, 4, 5, 6])\n",
        "\n",
        "# Reshaping to different dimensions\n",
        "reshaped_array = array.reshape((2, 3))\n",
        "\n",
        "print('Original Array:', array)\n",
        "print('Reshaped Array:\\n', reshaped_array)"
      ],
      "metadata": {
        "colab": {
          "base_uri": "https://localhost:8080/"
        },
        "id": "HaipZqcF1H_X",
        "outputId": "a39a1cbe-9fb3-48c6-f271-c76463d5db2a"
      },
      "execution_count": 47,
      "outputs": [
        {
          "output_type": "stream",
          "name": "stdout",
          "text": [
            "Squared Array: [  1  16  81 256]\n",
            "Square Root of Array: [1. 2. 3. 4.]\n"
          ]
        }
      ]
    }
  ]
}