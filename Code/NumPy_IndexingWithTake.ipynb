{
  "nbformat": 4,
  "nbformat_minor": 0,
  "metadata": {
    "colab": {
      "provenance": []
    },
    "kernelspec": {
      "name": "python3",
      "display_name": "Python 3"
    },
    "language_info": {
      "name": "python"
    }
  },
  "cells": [
    {
      "cell_type": "code",
      "source": [
        "# NumPy - Indexing with np.take\n",
        "import numpy as np\n",
        "\n",
        "# Creating an array\n",
        "array = np.array([10, 20, 30, 40, 50])\n",
        "\n",
        "# Using np.take to select elements at specific indices\n",
        "indices = [0, 2, 4]\n",
        "result = np.take(array, indices)\n",
        "\n",
        "print('Selected Elements using np.take:', result)"
      ],
      "metadata": {
        "colab": {
          "base_uri": "https://localhost:8080/"
        },
        "id": "HaipZqcF1H_X",
        "outputId": "b58f68d4-fb75-4973-a5d6-33a3eaf94d01"
      },
      "execution_count": 35,
      "outputs": [
        {
          "output_type": "stream",
          "name": "stdout",
          "text": [
            "Selected Elements using np.take: [10 30 50]\n"
          ]
        }
      ]
    }
  ]
}