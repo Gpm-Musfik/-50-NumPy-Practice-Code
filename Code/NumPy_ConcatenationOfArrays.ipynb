{
  "nbformat": 4,
  "nbformat_minor": 0,
  "metadata": {
    "colab": {
      "provenance": []
    },
    "kernelspec": {
      "name": "python3",
      "display_name": "Python 3"
    },
    "language_info": {
      "name": "python"
    }
  },
  "cells": [
    {
      "cell_type": "code",
      "source": [
        "# NumPy - Concatenation of Arrays\n",
        "import numpy as np\n",
        "\n",
        "# Creating arrays\n",
        "array1 = np.array([1, 2, 3])\n",
        "array2 = np.array([4, 5, 6])\n",
        "\n",
        "# Concatenating arrays\n",
        "concatenated_array = np.concatenate((array1, array2))\n",
        "\n",
        "print('Concatenated Array:', concatenated_array)"
      ],
      "metadata": {
        "colab": {
          "base_uri": "https://localhost:8080/"
        },
        "id": "HaipZqcF1H_X",
        "outputId": "cac84bf5-f762-4904-ad6f-197576399a1d"
      },
      "execution_count": 24,
      "outputs": [
        {
          "output_type": "stream",
          "name": "stdout",
          "text": [
            "Concatenated Array: [1 2 3 4 5 6]\n"
          ]
        }
      ]
    }
  ]
}