{
  "nbformat": 4,
  "nbformat_minor": 0,
  "metadata": {
    "colab": {
      "provenance": []
    },
    "kernelspec": {
      "name": "python3",
      "display_name": "Python 3"
    },
    "language_info": {
      "name": "python"
    }
  },
  "cells": [
    {
      "cell_type": "code",
      "source": [
        "# NumPy - Masked Indexing\n",
        "import numpy as np\n",
        "\n",
        "# Creating an array\n",
        "array = np.array([1, -2, 3, -4, 5])\n",
        "\n",
        "# Creating a mask for positive values\n",
        "mask = array > 0\n",
        "\n",
        "# Applying mask to get only positive values\n",
        "positive_values = array[mask]\n",
        "\n",
        "print('Positive Values:', positive_values)"
      ],
      "metadata": {
        "colab": {
          "base_uri": "https://localhost:8080/"
        },
        "id": "HaipZqcF1H_X",
        "outputId": "4c59a24b-cfa2-4082-9a6c-69bca93f7288"
      },
      "execution_count": 37,
      "outputs": [
        {
          "output_type": "stream",
          "name": "stdout",
          "text": [
            "Positive Values: [1 3 5]\n"
          ]
        }
      ]
    }
  ]
}