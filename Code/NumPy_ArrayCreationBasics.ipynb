{
  "nbformat": 4,
  "nbformat_minor": 0,
  "metadata": {
    "colab": {
      "provenance": []
    },
    "kernelspec": {
      "name": "python3",
      "display_name": "Python 3"
    },
    "language_info": {
      "name": "python"
    }
  },
  "cells": [
    {
      "cell_type": "code",
      "execution_count": 3,
      "metadata": {
        "colab": {
          "base_uri": "https://localhost:8080/"
        },
        "id": "hh1d7XeKi_N-",
        "outputId": "d442c36e-29c2-42fa-ec3a-bb4ec6611858"
      },
      "outputs": [
        {
          "output_type": "stream",
          "name": "stdout",
          "text": [
            "Array of Zeros:\n",
            " [[0. 0. 0.]\n",
            " [0. 0. 0.]\n",
            " [0. 0. 0.]]\n",
            "Array of Ones:\n",
            " [[1. 1.]\n",
            " [1. 1.]]\n",
            "Array with All Elements as 7:\n",
            " [[7 7]\n",
            " [7 7]]\n",
            "Array with Range of Numbers: [0 1 2 3 4 5 6 7 8 9]\n"
          ]
        }
      ],
      "source": [
        "# NumPy - Array Creation Basics\n",
        "import numpy as np\n",
        "\n",
        "# Creating arrays with different functions\n",
        "array_zeros = np.zeros((3, 3))\n",
        "array_ones = np.ones((2, 2))\n",
        "array_full = np.full((2, 2), 7)\n",
        "array_range = np.arange(10)\n",
        "\n",
        "print('Array of Zeros:\\n', array_zeros)\n",
        "print('Array of Ones:\\n', array_ones)\n",
        "print('Array with All Elements as 7:\\n', array_full)\n",
        "print('Array with Range of Numbers:', array_range)"
      ]
    }
  ]
}