{
  "nbformat": 4,
  "nbformat_minor": 0,
  "metadata": {
    "colab": {
      "provenance": []
    },
    "kernelspec": {
      "name": "python3",
      "display_name": "Python 3"
    },
    "language_info": {
      "name": "python"
    }
  },
  "cells": [
    {
      "cell_type": "code",
      "source": [
        "# NumPy - Unique Elements and Counting\n",
        "import numpy as np\n",
        "\n",
        "# Creating an array with duplicate values\n",
        "array = np.array([1, 2, 2, 3, 4, 4, 4, 5])\n",
        "\n",
        "# Finding unique elements and their counts\n",
        "unique_elements, counts = np.unique(array, return_counts=True)\n",
        "\n",
        "print('Unique Elements:', unique_elements)\n",
        "print('Counts of Unique Elements:', counts)"
      ],
      "metadata": {
        "colab": {
          "base_uri": "https://localhost:8080/"
        },
        "id": "HaipZqcF1H_X",
        "outputId": "bdc68787-7957-4135-eff7-a315fd5dab75"
      },
      "execution_count": 56,
      "outputs": [
        {
          "output_type": "stream",
          "name": "stdout",
          "text": [
            "Unique Elements: [1 2 3 4 5]\n",
            "Counts of Unique Elements: [1 2 1 3 1]\n"
          ]
        }
      ]
    }
  ]
}