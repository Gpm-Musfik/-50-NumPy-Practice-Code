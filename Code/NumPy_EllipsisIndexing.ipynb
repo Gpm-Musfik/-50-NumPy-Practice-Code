{
  "nbformat": 4,
  "nbformat_minor": 0,
  "metadata": {
    "colab": {
      "provenance": []
    },
    "kernelspec": {
      "name": "python3",
      "display_name": "Python 3"
    },
    "language_info": {
      "name": "python"
    }
  },
  "cells": [
    {
      "cell_type": "code",
      "source": [
        "#  NumPy - Using Ellipsis (...) in Indexing\n",
        "import numpy as np\n",
        "\n",
        "# Creating a 3D array\n",
        "array_3d = np.array([[[1, 2], [3, 4]], [[5, 6], [7, 8]], [[9, 10], [11, 12]]])\n",
        "\n",
        "# Using ellipsis to select all elements along specific axes\n",
        "result = array_3d[..., 1]  # Selecting the second column in each 2D slice\n",
        "\n",
        "print('Result using Ellipsis (...):\\n', result)"
      ],
      "metadata": {
        "colab": {
          "base_uri": "https://localhost:8080/"
        },
        "id": "HaipZqcF1H_X",
        "outputId": "0765a59d-abd4-4207-f9d1-53e2327ed5d3"
      },
      "execution_count": 28,
      "outputs": [
        {
          "output_type": "stream",
          "name": "stdout",
          "text": [
            "Result using Ellipsis (...):\n",
            " [[ 2  4]\n",
            " [ 6  8]\n",
            " [10 12]]\n"
          ]
        }
      ]
    }
  ]
}