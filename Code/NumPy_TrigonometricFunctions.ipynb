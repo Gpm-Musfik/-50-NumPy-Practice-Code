{
  "nbformat": 4,
  "nbformat_minor": 0,
  "metadata": {
    "colab": {
      "provenance": []
    },
    "kernelspec": {
      "name": "python3",
      "display_name": "Python 3"
    },
    "language_info": {
      "name": "python"
    }
  },
  "cells": [
    {
      "cell_type": "code",
      "source": [
        "# NumPy - Trigonometric Functions\n",
        "import numpy as np\n",
        "\n",
        "# Creating an array\n",
        "angles = np.array([0, np.pi/2, np.pi])\n",
        "\n",
        "# Trigonometric functions\n",
        "sin_array = np.sin(angles)\n",
        "cos_array = np.cos(angles)\n",
        "tan_array = np.tan(angles)\n",
        "\n",
        "print('Sine of Angles:', sin_array)\n",
        "print('Cosine of Angles:', cos_array)\n",
        "print('Tangent of Angles:', tan_array)"
      ],
      "metadata": {
        "colab": {
          "base_uri": "https://localhost:8080/"
        },
        "id": "HaipZqcF1H_X",
        "outputId": "ec9865d6-9893-4e77-e10e-c51c383f8951"
      },
      "execution_count": 55,
      "outputs": [
        {
          "output_type": "stream",
          "name": "stdout",
          "text": [
            "Sine of Angles: [0.0000000e+00 1.0000000e+00 1.2246468e-16]\n",
            "Cosine of Angles: [ 1.000000e+00  6.123234e-17 -1.000000e+00]\n",
            "Tangent of Angles: [ 0.00000000e+00  1.63312394e+16 -1.22464680e-16]\n"
          ]
        }
      ]
    }
  ]
}