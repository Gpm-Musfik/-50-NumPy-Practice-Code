{
  "nbformat": 4,
  "nbformat_minor": 0,
  "metadata": {
    "colab": {
      "provenance": []
    },
    "kernelspec": {
      "name": "python3",
      "display_name": "Python 3"
    },
    "language_info": {
      "name": "python"
    }
  },
  "cells": [
    {
      "cell_type": "code",
      "source": [
        "# NumPy - Transposing Arrays\n",
        "import numpy as np\n",
        "\n",
        "# Creating a 2D array\n",
        "array = np.array([[1, 2], [3, 4]])\n",
        "\n",
        "# Transposing the array\n",
        "transposed_array = np.transpose(array)\n",
        "\n",
        "print('Original Array:\\n', array)\n",
        "print('Transposed Array:\\n', transposed_array)"
      ],
      "metadata": {
        "colab": {
          "base_uri": "https://localhost:8080/"
        },
        "id": "HaipZqcF1H_X",
        "outputId": "bf661d7b-ed61-481b-c351-ee1a57d110a0"
      },
      "execution_count": 53,
      "outputs": [
        {
          "output_type": "stream",
          "name": "stdout",
          "text": [
            "Original Array:\n",
            " [[1 2]\n",
            " [3 4]]\n",
            "Transposed Array:\n",
            " [[1 3]\n",
            " [2 4]]\n"
          ]
        }
      ]
    }
  ]
}