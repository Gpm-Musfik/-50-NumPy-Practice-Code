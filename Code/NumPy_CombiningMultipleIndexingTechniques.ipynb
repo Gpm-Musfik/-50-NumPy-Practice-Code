{
  "nbformat": 4,
  "nbformat_minor": 0,
  "metadata": {
    "colab": {
      "provenance": []
    },
    "kernelspec": {
      "name": "python3",
      "display_name": "Python 3"
    },
    "language_info": {
      "name": "python"
    }
  },
  "cells": [
    {
      "cell_type": "code",
      "source": [
        "# NumPy - Combining Multiple Indexing Techniques\n",
        "import numpy as np\n",
        "\n",
        "# Creating a 2D array\n",
        "array_2d = np.array([[10, 20, 30], [40, 50, 60], [70, 80, 90]])\n",
        "\n",
        "# Using boolean indexing to create a mask for elements > 30\n",
        "mask = array_2d > 30\n",
        "\n",
        "# Applying the mask and then using fancy indexing on rows and columns\n",
        "result = array_2d[mask.any(axis=1)][:, [0, 1]]\n",
        "\n",
        "print('Combined Indexing Result:\\n', result)\n"
      ],
      "metadata": {
        "colab": {
          "base_uri": "https://localhost:8080/"
        },
        "id": "HaipZqcF1H_X",
        "outputId": "2fc9a858-0bf0-400e-9c8d-f53808e3dc7d"
      },
      "execution_count": 23,
      "outputs": [
        {
          "output_type": "stream",
          "name": "stdout",
          "text": [
            "Combined Indexing Result:\n",
            " [[40 50]\n",
            " [70 80]]\n"
          ]
        }
      ]
    }
  ]
}