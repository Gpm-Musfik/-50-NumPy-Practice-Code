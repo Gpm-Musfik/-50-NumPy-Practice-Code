{
  "nbformat": 4,
  "nbformat_minor": 0,
  "metadata": {
    "colab": {
      "provenance": []
    },
    "kernelspec": {
      "name": "python3",
      "display_name": "Python 3"
    },
    "language_info": {
      "name": "python"
    }
  },
  "cells": [
    {
      "cell_type": "code",
      "execution_count": 5,
      "metadata": {
        "colab": {
          "base_uri": "https://localhost:8080/"
        },
        "id": "hh1d7XeKi_N-",
        "outputId": "bca0fe62-96af-45ad-816d-bbe8bc60338f"
      },
      "outputs": [
        {
          "output_type": "stream",
          "name": "stdout",
          "text": [
            "First Element: 10\n",
            "Last Element: 50\n",
            "Sliced Array: [20 30 40]\n"
          ]
        }
      ],
      "source": [
        "# NumPy - Basic Indexing and Slicing\n",
        "import numpy as np\n",
        "\n",
        "# Creating an array\n",
        "array = np.array([10, 20, 30, 40, 50])\n",
        "\n",
        "# Accessing elements by index\n",
        "first_element = array[0]\n",
        "last_element = array[-1]\n",
        "\n",
        "# Slicing the array\n",
        "slice_array = array[1:4]\n",
        "\n",
        "print('First Element:', first_element)\n",
        "print('Last Element:', last_element)\n",
        "print('Sliced Array:', slice_array)"
      ]
    }
  ]
}