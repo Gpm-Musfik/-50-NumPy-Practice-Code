{
  "nbformat": 4,
  "nbformat_minor": 0,
  "metadata": {
    "colab": {
      "provenance": []
    },
    "kernelspec": {
      "name": "python3",
      "display_name": "Python 3"
    },
    "language_info": {
      "name": "python"
    }
  },
  "cells": [
    {
      "cell_type": "code",
      "source": [
        "# NumPy - Flattening a Multi-dimensional Array\n",
        "import numpy as np\n",
        "\n",
        "# Creating a 2D array\n",
        "array_2d = np.array([[1, 2, 3], [4, 5, 6]])\n",
        "\n",
        "# Flattening the array\n",
        "flattened_array = array_2d.flatten()\n",
        "\n",
        "print('Flattened Array:', flattened_array)"
      ],
      "metadata": {
        "colab": {
          "base_uri": "https://localhost:8080/"
        },
        "id": "HaipZqcF1H_X",
        "outputId": "5527fe3c-aa76-4cce-cd5c-5414d36b1d85"
      },
      "execution_count": 33,
      "outputs": [
        {
          "output_type": "stream",
          "name": "stdout",
          "text": [
            "Flattened Array: [1 2 3 4 5 6]\n"
          ]
        }
      ]
    }
  ]
}