{
  "nbformat": 4,
  "nbformat_minor": 0,
  "metadata": {
    "colab": {
      "provenance": []
    },
    "kernelspec": {
      "name": "python3",
      "display_name": "Python 3"
    },
    "language_info": {
      "name": "python"
    }
  },
  "cells": [
    {
      "cell_type": "code",
      "execution_count": 7,
      "metadata": {
        "colab": {
          "base_uri": "https://localhost:8080/"
        },
        "id": "hh1d7XeKi_N-",
        "outputId": "2cdd6b76-2b94-40c6-8ca4-724ac330ad79"
      },
      "outputs": [
        {
          "output_type": "stream",
          "name": "stdout",
          "text": [
            "Original Array: [1 2 3 4 5 6]\n",
            "Even Numbers: [2 4 6]\n"
          ]
        }
      ],
      "source": [
        "# NumPy - Boolean Indexing\n",
        "import numpy as np\n",
        "\n",
        "# Creating an array\n",
        "array = np.array([1, 2, 3, 4, 5, 6])\n",
        "\n",
        "# Boolean indexing\n",
        "even_numbers = array[array % 2 == 0]\n",
        "\n",
        "print('Original Array:', array)\n",
        "print('Even Numbers:', even_numbers)"
      ]
    }
  ]
}