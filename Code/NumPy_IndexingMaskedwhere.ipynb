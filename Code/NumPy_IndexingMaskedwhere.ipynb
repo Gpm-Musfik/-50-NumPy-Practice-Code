{
  "nbformat": 4,
  "nbformat_minor": 0,
  "metadata": {
    "colab": {
      "provenance": []
    },
    "kernelspec": {
      "name": "python3",
      "display_name": "Python 3"
    },
    "language_info": {
      "name": "python"
    }
  },
  "cells": [
    {
      "cell_type": "code",
      "source": [
        "# NumPy - Masked Indexing with np.ma.masked_where\n",
        "import numpy as np\n",
        "\n",
        "# Creating an array\n",
        "array = np.array([1, -2, 3, -4, 5])\n",
        "\n",
        "# Masking elements where values are negative\n",
        "masked_array = np.ma.masked_where(array < 0, array)\n",
        "\n",
        "print('Masked Array with Negative Values Hidden:', masked_array)"
      ],
      "metadata": {
        "colab": {
          "base_uri": "https://localhost:8080/"
        },
        "id": "HaipZqcF1H_X",
        "outputId": "6879644a-0ae2-46d8-dba3-522643e17191"
      },
      "execution_count": 38,
      "outputs": [
        {
          "output_type": "stream",
          "name": "stdout",
          "text": [
            "Masked Array with Negative Values Hidden: [1 -- 3 -- 5]\n"
          ]
        }
      ]
    }
  ]
}