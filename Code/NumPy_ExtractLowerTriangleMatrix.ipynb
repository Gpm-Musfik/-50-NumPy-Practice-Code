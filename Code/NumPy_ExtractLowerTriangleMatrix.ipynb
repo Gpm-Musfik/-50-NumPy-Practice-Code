{
  "nbformat": 4,
  "nbformat_minor": 0,
  "metadata": {
    "colab": {
      "provenance": []
    },
    "kernelspec": {
      "name": "python3",
      "display_name": "Python 3"
    },
    "language_info": {
      "name": "python"
    }
  },
  "cells": [
    {
      "cell_type": "code",
      "source": [
        "# NumPy - Extract Lower Triangle of a Matrix\n",
        "import numpy as np\n",
        "\n",
        "# Creating a square matrix\n",
        "matrix = np.array([[1, 2, 3], [4, 5, 6], [7, 8, 9]])\n",
        "\n",
        "# Extracting the lower triangle (below the main diagonal)\n",
        "lower_triangle = np.tril(matrix)\n",
        "\n",
        "print('Lower Triangle of the Matrix:\\n', lower_triangle)"
      ],
      "metadata": {
        "colab": {
          "base_uri": "https://localhost:8080/"
        },
        "id": "HaipZqcF1H_X",
        "outputId": "65b3684b-0062-4b9b-9e12-5832815e38c3"
      },
      "execution_count": 31,
      "outputs": [
        {
          "output_type": "stream",
          "name": "stdout",
          "text": [
            "Lower Triangle of the Matrix:\n",
            " [[1 0 0]\n",
            " [4 5 0]\n",
            " [7 8 9]]\n"
          ]
        }
      ]
    }
  ]
}