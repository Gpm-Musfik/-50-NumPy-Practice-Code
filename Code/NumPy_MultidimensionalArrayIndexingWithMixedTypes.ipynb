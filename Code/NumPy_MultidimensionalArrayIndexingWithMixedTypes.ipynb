{
  "nbformat": 4,
  "nbformat_minor": 0,
  "metadata": {
    "colab": {
      "provenance": []
    },
    "kernelspec": {
      "name": "python3",
      "display_name": "Python 3"
    },
    "language_info": {
      "name": "python"
    }
  },
  "cells": [
    {
      "cell_type": "code",
      "source": [
        "# NumPy - Multi-dimensional Array Indexing with Mixed Types\n",
        "import numpy as np\n",
        "\n",
        "# Creating a 3D array\n",
        "array_3d = np.array([[[1, 2], [3, 4]], [[5, 6], [7, 8]], [[9, 10], [11, 12]]])\n",
        "\n",
        "# Mixing slicing with direct indexing\n",
        "mixed_index = array_3d[1:, 0, 1]\n",
        "\n",
        "print('Mixed Type Indexing Result:', mixed_index)"
      ],
      "metadata": {
        "colab": {
          "base_uri": "https://localhost:8080/"
        },
        "id": "HaipZqcF1H_X",
        "outputId": "612c1e89-5298-4d40-a2ed-e7922bf8ee6e"
      },
      "execution_count": 44,
      "outputs": [
        {
          "output_type": "stream",
          "name": "stdout",
          "text": [
            "Mixed Type Indexing Result: [ 6 10]\n"
          ]
        }
      ]
    }
  ]
}