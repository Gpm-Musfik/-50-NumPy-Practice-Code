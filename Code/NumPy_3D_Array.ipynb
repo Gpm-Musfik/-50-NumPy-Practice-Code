{
  "nbformat": 4,
  "nbformat_minor": 0,
  "metadata": {
    "colab": {
      "provenance": []
    },
    "kernelspec": {
      "name": "python3",
      "display_name": "Python 3"
    },
    "language_info": {
      "name": "python"
    }
  },
  "cells": [
    {
      "cell_type": "code",
      "execution_count": 1,
      "metadata": {
        "colab": {
          "base_uri": "https://localhost:8080/"
        },
        "id": "-VV8iClxiJVT",
        "outputId": "60f89a11-a48f-4f2d-bbdf-bd6fdb3c41c7"
      },
      "outputs": [
        {
          "output_type": "stream",
          "name": "stdout",
          "text": [
            "Element at (1,0,1): 6\n",
            "Sliced 3D Array:\n",
            " [[1 2]\n",
            " [5 6]]\n"
          ]
        }
      ],
      "source": [
        "# NumPy - 3D Array Indexing\n",
        "import numpy as np\n",
        "\n",
        "# Creating a 3D array\n",
        "array_3d = np.array([[[1, 2], [3, 4]], [[5, 6], [7, 8]]])\n",
        "\n",
        "# Accessing elements in a 3D array\n",
        "element = array_3d[1, 0, 1]  # Accessing the element at [1, 0, 1]\n",
        "\n",
        "# Slicing in 3D\n",
        "slice_3d = array_3d[:, 0, :]\n",
        "\n",
        "print('Element at (1,0,1):', element)\n",
        "print('Sliced 3D Array:\\n', slice_3d)"
      ]
    }
  ]
}