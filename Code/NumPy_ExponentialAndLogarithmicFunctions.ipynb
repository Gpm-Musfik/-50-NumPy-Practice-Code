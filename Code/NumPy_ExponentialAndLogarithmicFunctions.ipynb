{
  "nbformat": 4,
  "nbformat_minor": 0,
  "metadata": {
    "colab": {
      "provenance": []
    },
    "kernelspec": {
      "name": "python3",
      "display_name": "Python 3"
    },
    "language_info": {
      "name": "python"
    }
  },
  "cells": [
    {
      "cell_type": "code",
      "source": [
        "# NumPy - Exponential and Logarithmic Functions\n",
        "import numpy as np\n",
        "\n",
        "# Creating an array\n",
        "array = np.array([1, 2, 3])\n",
        "\n",
        "# Exponential and logarithmic functions\n",
        "exp_array = np.exp(array)\n",
        "log_array = np.log(array)\n",
        "\n",
        "print('Exponential of Array:', exp_array)\n",
        "print('Logarithm of Array:', log_array)"
      ],
      "metadata": {
        "colab": {
          "base_uri": "https://localhost:8080/"
        },
        "id": "HaipZqcF1H_X",
        "outputId": "c9e47dac-49a4-4d89-e141-df3d9e511595"
      },
      "execution_count": 29,
      "outputs": [
        {
          "output_type": "stream",
          "name": "stdout",
          "text": [
            "Exponential of Array: [ 2.71828183  7.3890561  20.08553692]\n",
            "Logarithm of Array: [0.         0.69314718 1.09861229]\n"
          ]
        }
      ]
    }
  ]
}