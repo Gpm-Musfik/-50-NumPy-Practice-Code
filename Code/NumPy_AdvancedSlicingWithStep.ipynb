{
  "nbformat": 4,
  "nbformat_minor": 0,
  "metadata": {
    "colab": {
      "provenance": []
    },
    "kernelspec": {
      "name": "python3",
      "display_name": "Python 3"
    },
    "language_info": {
      "name": "python"
    }
  },
  "cells": [
    {
      "cell_type": "code",
      "execution_count": 2,
      "metadata": {
        "colab": {
          "base_uri": "https://localhost:8080/"
        },
        "id": "hh1d7XeKi_N-",
        "outputId": "f8e54757-c4ae-4474-8589-d31f24e7e384"
      },
      "outputs": [
        {
          "output_type": "stream",
          "name": "stdout",
          "text": [
            "Advanced Sliced Array with Step:\n",
            " [[ 1  3]\n",
            " [ 9 11]]\n"
          ]
        }
      ],
      "source": [
        "# NumPy - Advanced Slicing with Step in 2D Array\n",
        "import numpy as np\n",
        "\n",
        "# Creating a 2D array\n",
        "array_2d = np.array([[1, 2, 3, 4], [5, 6, 7, 8], [9, 10, 11, 12]])\n",
        "\n",
        "# Slicing every second element in rows and columns\n",
        "result = array_2d[::2, ::2]\n",
        "\n",
        "print('Advanced Sliced Array with Step:\\n', result)"
      ]
    }
  ]
}